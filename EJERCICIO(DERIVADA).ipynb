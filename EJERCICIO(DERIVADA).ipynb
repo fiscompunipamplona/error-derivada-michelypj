{
 "cells": [
  {
   "cell_type": "code",
   "execution_count": 1,
   "metadata": {},
   "outputs": [],
   "source": [
    "#Ejercicio:  derivada usando limite"
   ]
  },
  {
   "cell_type": "code",
   "execution_count": 2,
   "metadata": {},
   "outputs": [],
   "source": [
    "#Para un Delta =0.01"
   ]
  },
  {
   "cell_type": "code",
   "execution_count": 3,
   "metadata": {},
   "outputs": [
    {
     "name": "stdout",
     "output_type": "stream",
     "text": [
      "El valor analitico es: 1\n",
      "El valor para 0.01 es 1.010000000000001\n",
      "El error es: 1.0000000000000897\n"
     ]
    }
   ],
   "source": [
    "dt=1e-2\n",
    "x=1\n",
    "analitico=x-1+x\n",
    "print(\"El valor analitico es:\",analitico)\n",
    "derivada=(((x+dt)*(x+dt-1))-(x*(x-1)))/dt\n",
    "print(\"El valor para 0.01 es\",derivada)\n",
    "error=(abs(analitico-derivada)*100)\n",
    "print(\"El error es:\",error)"
   ]
  },
  {
   "cell_type": "code",
   "execution_count": 4,
   "metadata": {},
   "outputs": [],
   "source": [
    "#Para valores de delta de 0.01 hasta 1e-14, [0.01, 0.0001, 1e-06, 1e-08, 1e-10, 1e-12, 1e-14, 1e-16]"
   ]
  },
  {
   "cell_type": "code",
   "execution_count": 5,
   "metadata": {},
   "outputs": [
    {
     "name": "stdout",
     "output_type": "stream",
     "text": [
      "\n",
      "b= [0.01, 0.0001, 1e-06, 1e-08, 1e-10, 1e-12, 1e-14]\n",
      "\n",
      "El valor para  0.01  es: 1.010000000000001\n",
      " El error para 0.01 es: 1.0000000000000897\n",
      "\n",
      "El valor para  0.0001  es: 1.0000999999998899\n",
      " El error para 0.0001 es: 0.009999999988985486\n",
      "\n",
      "El valor para  1e-06  es: 1.0000009999177333\n",
      " El error para 1e-06 es: 9.99917733279787e-05\n",
      "\n",
      "El valor para  1e-08  es: 1.0000000039225287\n",
      " El error para 1e-08 es: 3.9225287462585356e-07\n",
      "\n",
      "El valor para  1e-10  es: 1.000000082840371\n",
      " El error para 1e-10 es: 8.284037100736441e-06\n",
      "\n",
      "El valor para  1e-12  es: 1.0000889005833413\n",
      " El error para 1e-12 es: 0.008890058334132256\n",
      "\n",
      "El valor para  1e-14  es: 0.9992007221626509\n",
      " El error para 1e-14 es: 0.07992778373491216\n"
     ]
    }
   ],
   "source": [
    "X=1\n",
    "b=[]\n",
    "for j in range(2, 16, 2):\n",
    "    dt=10**-j\n",
    "    b.append(dt)\n",
    "print('\\nb=',b)\n",
    "for j in b:\n",
    "    derivada=(((x+j)*(x+j-1))-(x*(x-1)))/j\n",
    "    error=abs(1-derivada)*100\n",
    "    print(\"\\nEl valor para \",j ,\" es:\",derivada)\n",
    "    print(\" El error para\",j,\"es:\",error)"
   ]
  },
  {
   "cell_type": "code",
   "execution_count": 6,
   "metadata": {},
   "outputs": [],
   "source": [
    "# DE LOS VALORES OBTENIDOS PODEMOS DECIR QUE EL VALOR PARA EL DELTA CUANDO ES MAS PEQUEÑO, EL ERROR DISMINUYE.\n"
   ]
  },
  {
   "cell_type": "code",
   "execution_count": null,
   "metadata": {},
   "outputs": [],
   "source": []
  }
 ],
 "metadata": {
  "kernelspec": {
   "display_name": "Python 3",
   "language": "python",
   "name": "python3"
  },
  "language_info": {
   "codemirror_mode": {
    "name": "ipython",
    "version": 3
   },
   "file_extension": ".py",
   "mimetype": "text/x-python",
   "name": "python",
   "nbconvert_exporter": "python",
   "pygments_lexer": "ipython3",
   "version": "3.5.2"
  }
 },
 "nbformat": 4,
 "nbformat_minor": 2
}
